{
 "cells": [
  {
   "cell_type": "markdown",
   "metadata": {},
   "source": [
    "# Combining the Datasources\n",
    "---\n",
    "**Purpose**: Combining all the important sentences from the various news sources we had into one dataframe of important sentences. Then I will make dataframes related to different important categories (such as: lives lost, humans affected, economic affects)."
   ]
  },
  {
   "cell_type": "code",
   "execution_count": 5,
   "metadata": {},
   "outputs": [],
   "source": [
    "# Libraries \n",
    "import numpy as np\n",
    "import pandas as pd\n",
    "import seaborn as sns\n",
    "import matplotlib.pyplot as plt\n",
    "import re\n",
    "\n",
    "%matplotlib inline"
   ]
  },
  {
   "cell_type": "markdown",
   "metadata": {},
   "source": [
    "### Read in the csv files\n",
    "Read in the csv files of the important sentences. Notice the additional argument called `parse_dates` set equal to the column \"date\" which has the publication date of the article in datetime format. "
   ]
  },
  {
   "cell_type": "code",
   "execution_count": 6,
   "metadata": {},
   "outputs": [],
   "source": [
    "# Read in data from reliefweb AFTER 2006\n",
    "# Notice: after the csv name there is an additional argument \n",
    "    \n",
    "reliefweb_df= pd.read_csv(\"../data/reliefweb_clean.csv\",\n",
    "                            parse_dates = [\"date\"])\n",
    "\n",
    "tribune_df = pd.read_csv(\"../data/tribune_data_clean.csv\",\n",
    "            parse_dates = [\"date\"])\n",
    "\n",
    "times_df= pd.read_csv(\"../data/payal_clean.csv\",\n",
    "            parse_dates = [\"date\"])"
   ]
  },
  {
   "cell_type": "code",
   "execution_count": 7,
   "metadata": {},
   "outputs": [],
   "source": [
    "# list of all the dataframes which will be combined together\n",
    "dataframes = [tribune_df, times_df, reliefweb_df]"
   ]
  },
  {
   "cell_type": "code",
   "execution_count": 8,
   "metadata": {},
   "outputs": [],
   "source": [
    "# combined dataframe\n",
    "combined_df = pd.concat(dataframes, ignore_index=True)"
   ]
  },
  {
   "cell_type": "code",
   "execution_count": 9,
   "metadata": {},
   "outputs": [
    {
     "data": {
      "text/html": [
       "<div>\n",
       "<style scoped>\n",
       "    .dataframe tbody tr th:only-of-type {\n",
       "        vertical-align: middle;\n",
       "    }\n",
       "\n",
       "    .dataframe tbody tr th {\n",
       "        vertical-align: top;\n",
       "    }\n",
       "\n",
       "    .dataframe thead th {\n",
       "        text-align: right;\n",
       "    }\n",
       "</style>\n",
       "<table border=\"1\" class=\"dataframe\">\n",
       "  <thead>\n",
       "    <tr style=\"text-align: right;\">\n",
       "      <th></th>\n",
       "      <th>date</th>\n",
       "      <th>source</th>\n",
       "      <th>text</th>\n",
       "    </tr>\n",
       "  </thead>\n",
       "  <tbody>\n",
       "    <tr>\n",
       "      <th>0</th>\n",
       "      <td>2019-10-21</td>\n",
       "      <td>https://www.tribuneindia.com/news/punjab/flood...</td>\n",
       "      <td>flood-hit farmers to get 9k-quintal wheat seed...</td>\n",
       "    </tr>\n",
       "    <tr>\n",
       "      <th>1</th>\n",
       "      <td>2019-10-16</td>\n",
       "      <td>https://www.tribuneindia.com/news/punjab/debt-...</td>\n",
       "      <td>debt relief likely for flood-hit farmers. ruch...</td>\n",
       "    </tr>\n",
       "    <tr>\n",
       "      <th>2</th>\n",
       "      <td>2019-10-14</td>\n",
       "      <td>https://www.tribuneindia.com/news/punjab/no-wh...</td>\n",
       "      <td>no wheat seed disbursal, farmers livid. aparna...</td>\n",
       "    </tr>\n",
       "    <tr>\n",
       "      <th>3</th>\n",
       "      <td>2019-10-14</td>\n",
       "      <td>https://www.tribuneindia.com/news/punjab/farme...</td>\n",
       "      <td>farmers in flood-affected areas to get free wh...</td>\n",
       "    </tr>\n",
       "    <tr>\n",
       "      <th>4</th>\n",
       "      <td>2019-10-11</td>\n",
       "      <td>https://www.tribuneindia.com/news/punjab/busin...</td>\n",
       "      <td>business sinks in mandis of flood-hit lohian. ...</td>\n",
       "    </tr>\n",
       "  </tbody>\n",
       "</table>\n",
       "</div>"
      ],
      "text/plain": [
       "        date                                             source  \\\n",
       "0 2019-10-21  https://www.tribuneindia.com/news/punjab/flood...   \n",
       "1 2019-10-16  https://www.tribuneindia.com/news/punjab/debt-...   \n",
       "2 2019-10-14  https://www.tribuneindia.com/news/punjab/no-wh...   \n",
       "3 2019-10-14  https://www.tribuneindia.com/news/punjab/farme...   \n",
       "4 2019-10-11  https://www.tribuneindia.com/news/punjab/busin...   \n",
       "\n",
       "                                                text  \n",
       "0  flood-hit farmers to get 9k-quintal wheat seed...  \n",
       "1  debt relief likely for flood-hit farmers. ruch...  \n",
       "2  no wheat seed disbursal, farmers livid. aparna...  \n",
       "3  farmers in flood-affected areas to get free wh...  \n",
       "4  business sinks in mandis of flood-hit lohian. ...  "
      ]
     },
     "execution_count": 9,
     "metadata": {},
     "output_type": "execute_result"
    }
   ],
   "source": [
    "combined_df.head()"
   ]
  },
  {
   "cell_type": "code",
   "execution_count": 10,
   "metadata": {},
   "outputs": [
    {
     "name": "stdout",
     "output_type": "stream",
     "text": [
      "<class 'pandas.core.frame.DataFrame'>\n",
      "RangeIndex: 1472 entries, 0 to 1471\n",
      "Data columns (total 3 columns):\n",
      "date      1472 non-null datetime64[ns]\n",
      "source    1472 non-null object\n",
      "text      1472 non-null object\n",
      "dtypes: datetime64[ns](1), object(2)\n",
      "memory usage: 34.6+ KB\n"
     ]
    }
   ],
   "source": [
    "combined_df.info()"
   ]
  },
  {
   "cell_type": "markdown",
   "metadata": {},
   "source": [
    "## Find duplicated articles\n",
    "Since the same article could be published from a different website or the same article could be published on different days with a different url. I wanted to make sure that we did not have duplicated information going forward. "
   ]
  },
  {
   "cell_type": "code",
   "execution_count": 11,
   "metadata": {},
   "outputs": [
    {
     "data": {
      "text/html": [
       "<div>\n",
       "<style scoped>\n",
       "    .dataframe tbody tr th:only-of-type {\n",
       "        vertical-align: middle;\n",
       "    }\n",
       "\n",
       "    .dataframe tbody tr th {\n",
       "        vertical-align: top;\n",
       "    }\n",
       "\n",
       "    .dataframe thead th {\n",
       "        text-align: right;\n",
       "    }\n",
       "</style>\n",
       "<table border=\"1\" class=\"dataframe\">\n",
       "  <thead>\n",
       "    <tr style=\"text-align: right;\">\n",
       "      <th></th>\n",
       "      <th>date</th>\n",
       "      <th>source</th>\n",
       "      <th>text</th>\n",
       "    </tr>\n",
       "  </thead>\n",
       "  <tbody>\n",
       "    <tr>\n",
       "      <th>1313</th>\n",
       "      <td>2012-07-19</td>\n",
       "      <td>https://reliefweb.int/node/513138</td>\n",
       "      <td>southwest monsoon-2012: daily flood situation ...</td>\n",
       "    </tr>\n",
       "    <tr>\n",
       "      <th>1310</th>\n",
       "      <td>2012-07-19</td>\n",
       "      <td>https://reliefweb.int/node/512394</td>\n",
       "      <td>southwest monsoon-2012: daily flood situation ...</td>\n",
       "    </tr>\n",
       "    <tr>\n",
       "      <th>1090</th>\n",
       "      <td>2015-03-03</td>\n",
       "      <td>https://www.tribuneindia.com/news/community/wh...</td>\n",
       "      <td>wheat crop in moga flattened. kulwinder sandhu...</td>\n",
       "    </tr>\n",
       "    <tr>\n",
       "      <th>965</th>\n",
       "      <td>2015-03-03</td>\n",
       "      <td>https://www.tribuneindia.com/news/community/wh...</td>\n",
       "      <td>wheat crop in moga flattened. kulwinder sandhu...</td>\n",
       "    </tr>\n",
       "    <tr>\n",
       "      <th>963</th>\n",
       "      <td>2015-04-15</td>\n",
       "      <td>https://www.tribuneindia.com/news/community/ju...</td>\n",
       "      <td>june 30 deadline to clean drains in areas pron...</td>\n",
       "    </tr>\n",
       "    <tr>\n",
       "      <th>...</th>\n",
       "      <td>...</td>\n",
       "      <td>...</td>\n",
       "      <td>...</td>\n",
       "    </tr>\n",
       "    <tr>\n",
       "      <th>20</th>\n",
       "      <td>2019-10-21</td>\n",
       "      <td>https://www.tribuneindia.com/news/punjab/flood...</td>\n",
       "      <td>flood-hit farmers to get 9k-quintal wheat seed...</td>\n",
       "    </tr>\n",
       "    <tr>\n",
       "      <th>322</th>\n",
       "      <td>2019-10-27</td>\n",
       "      <td>https://www.tribuneindia.com/news/punjab/dengu...</td>\n",
       "      <td>dengue scare in ludhiana, 10-year-old girl die...</td>\n",
       "    </tr>\n",
       "    <tr>\n",
       "      <th>302</th>\n",
       "      <td>2019-10-27</td>\n",
       "      <td>https://www.tribuneindia.com/news/punjab/dengu...</td>\n",
       "      <td>dengue scare in ludhiana, 10-year-old girl die...</td>\n",
       "    </tr>\n",
       "    <tr>\n",
       "      <th>301</th>\n",
       "      <td>2019-10-29</td>\n",
       "      <td>https://www.tribuneindia.com/news/punjab/hc-ra...</td>\n",
       "      <td>hc raps punjab agri dept officials. saurabh ma...</td>\n",
       "    </tr>\n",
       "    <tr>\n",
       "      <th>321</th>\n",
       "      <td>2019-10-29</td>\n",
       "      <td>https://www.tribuneindia.com/news/punjab/hc-ra...</td>\n",
       "      <td>hc raps punjab agri dept officials. saurabh ma...</td>\n",
       "    </tr>\n",
       "  </tbody>\n",
       "</table>\n",
       "<p>437 rows × 3 columns</p>\n",
       "</div>"
      ],
      "text/plain": [
       "           date                                             source  \\\n",
       "1313 2012-07-19                  https://reliefweb.int/node/513138   \n",
       "1310 2012-07-19                  https://reliefweb.int/node/512394   \n",
       "1090 2015-03-03  https://www.tribuneindia.com/news/community/wh...   \n",
       "965  2015-03-03  https://www.tribuneindia.com/news/community/wh...   \n",
       "963  2015-04-15  https://www.tribuneindia.com/news/community/ju...   \n",
       "...         ...                                                ...   \n",
       "20   2019-10-21  https://www.tribuneindia.com/news/punjab/flood...   \n",
       "322  2019-10-27  https://www.tribuneindia.com/news/punjab/dengu...   \n",
       "302  2019-10-27  https://www.tribuneindia.com/news/punjab/dengu...   \n",
       "301  2019-10-29  https://www.tribuneindia.com/news/punjab/hc-ra...   \n",
       "321  2019-10-29  https://www.tribuneindia.com/news/punjab/hc-ra...   \n",
       "\n",
       "                                                   text  \n",
       "1313  southwest monsoon-2012: daily flood situation ...  \n",
       "1310  southwest monsoon-2012: daily flood situation ...  \n",
       "1090  wheat crop in moga flattened. kulwinder sandhu...  \n",
       "965   wheat crop in moga flattened. kulwinder sandhu...  \n",
       "963   june 30 deadline to clean drains in areas pron...  \n",
       "...                                                 ...  \n",
       "20    flood-hit farmers to get 9k-quintal wheat seed...  \n",
       "322   dengue scare in ludhiana, 10-year-old girl die...  \n",
       "302   dengue scare in ludhiana, 10-year-old girl die...  \n",
       "301   hc raps punjab agri dept officials. saurabh ma...  \n",
       "321   hc raps punjab agri dept officials. saurabh ma...  \n",
       "\n",
       "[437 rows x 3 columns]"
      ]
     },
     "execution_count": 11,
     "metadata": {},
     "output_type": "execute_result"
    }
   ],
   "source": [
    "# Find duplicated articles based on duplicated text \n",
    "dups = combined_df[\"text\"]\n",
    "combined_df[dups.isin(dups[dups.duplicated()])].sort_values(\"date\")"
   ]
  },
  {
   "cell_type": "code",
   "execution_count": 12,
   "metadata": {},
   "outputs": [],
   "source": [
    "# Keeping the first appearance of a duplicated text\n",
    "combined_df = combined_df.drop_duplicates(subset = \"text\", keep = \"first\")\n",
    "combined_df = combined_df.reset_index()"
   ]
  },
  {
   "cell_type": "code",
   "execution_count": 13,
   "metadata": {},
   "outputs": [
    {
     "data": {
      "text/html": [
       "<div>\n",
       "<style scoped>\n",
       "    .dataframe tbody tr th:only-of-type {\n",
       "        vertical-align: middle;\n",
       "    }\n",
       "\n",
       "    .dataframe tbody tr th {\n",
       "        vertical-align: top;\n",
       "    }\n",
       "\n",
       "    .dataframe thead th {\n",
       "        text-align: right;\n",
       "    }\n",
       "</style>\n",
       "<table border=\"1\" class=\"dataframe\">\n",
       "  <thead>\n",
       "    <tr style=\"text-align: right;\">\n",
       "      <th></th>\n",
       "      <th>index</th>\n",
       "      <th>date</th>\n",
       "      <th>source</th>\n",
       "      <th>text</th>\n",
       "    </tr>\n",
       "  </thead>\n",
       "  <tbody>\n",
       "  </tbody>\n",
       "</table>\n",
       "</div>"
      ],
      "text/plain": [
       "Empty DataFrame\n",
       "Columns: [index, date, source, text]\n",
       "Index: []"
      ]
     },
     "execution_count": 13,
     "metadata": {},
     "output_type": "execute_result"
    }
   ],
   "source": [
    "# check \n",
    "dups = combined_df[\"text\"]\n",
    "combined_df[dups.isin(dups[dups.duplicated()])].sort_values(\"date\")"
   ]
  },
  {
   "cell_type": "markdown",
   "metadata": {},
   "source": [
    "A little over 200 articles were repeated and they were removed from the dataframe. "
   ]
  },
  {
   "cell_type": "code",
   "execution_count": 14,
   "metadata": {},
   "outputs": [
    {
     "name": "stdout",
     "output_type": "stream",
     "text": [
      "<class 'pandas.core.frame.DataFrame'>\n",
      "RangeIndex: 1225 entries, 0 to 1224\n",
      "Data columns (total 4 columns):\n",
      "index     1225 non-null int64\n",
      "date      1225 non-null datetime64[ns]\n",
      "source    1225 non-null object\n",
      "text      1225 non-null object\n",
      "dtypes: datetime64[ns](1), int64(1), object(2)\n",
      "memory usage: 38.4+ KB\n"
     ]
    }
   ],
   "source": [
    "# check info\n",
    "combined_df.info()"
   ]
  },
  {
   "cell_type": "code",
   "execution_count": 15,
   "metadata": {},
   "outputs": [],
   "source": [
    "# save to csv file \n",
    "# create csv file from the new dataframe\n",
    "combined_df.to_csv(\"../data/combined.csv\", index = False)"
   ]
  },
  {
   "cell_type": "markdown",
   "metadata": {},
   "source": [
    "**Summary**: In this notebook, the cleaned data from each of the news source were combined together into one dataframe and then saved as a single csv. Next this csv file will be used to extract meaningful information from it to make a database about historic floods in Punjab, India.  "
   ]
  }
 ],
 "metadata": {
  "kernelspec": {
   "display_name": "Python 3",
   "language": "python",
   "name": "python3"
  },
  "language_info": {
   "codemirror_mode": {
    "name": "ipython",
    "version": 3
   },
   "file_extension": ".py",
   "mimetype": "text/x-python",
   "name": "python",
   "nbconvert_exporter": "python",
   "pygments_lexer": "ipython3",
   "version": "3.7.3"
  }
 },
 "nbformat": 4,
 "nbformat_minor": 2
}
