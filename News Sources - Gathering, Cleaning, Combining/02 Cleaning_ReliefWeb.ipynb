{
 "cells": [
  {
   "cell_type": "markdown",
   "metadata": {},
   "source": [
    "## Cleaning the ReliefWeb textual data\n",
    "---\n",
    "**Purpose**: This notebook will show the steps which will be followed to clean the collected data from the webscrapping. The data should be in a csv format and the column referring to the date of publication should have been changed to a datetime type OR a datetime type column should have been appended to the csv file (this was accomplished in the previous notebook). The bare minimum of columns required for each csv file should be: date (in datetime type), title (object type), and the text from the article (object type). Later on the source, where the webscrapping was done, will be added to the file.  \n",
    "\n",
    "This notebook will prepare a csv file for eventual merging with others for eventual analysis and data extraction. "
   ]
  },
  {
   "cell_type": "code",
   "execution_count": 1,
   "metadata": {},
   "outputs": [],
   "source": [
    "# Libraries \n",
    "import numpy as np\n",
    "import pandas as pd\n",
    "import seaborn as sns\n",
    "import matplotlib.pyplot as plt\n",
    "import re\n",
    "\n",
    "%matplotlib inline"
   ]
  },
  {
   "cell_type": "markdown",
   "metadata": {},
   "source": [
    "## Read in the csv file\n",
    "Read in the csv file. Take special care to remember to add the argument `parse_dates` with the column name of the column which has the dates in datetime format. This will allow it to be imported as a datetime type instead of an object. This argument will have to be used whenever a datetime type column is part of the csv file. "
   ]
  },
  {
   "cell_type": "code",
   "execution_count": 2,
   "metadata": {},
   "outputs": [],
   "source": [
    "# Read in data from reliefweb AFTER 2006\n",
    "# Notice: after the csv name there is an additional argument \n",
    "    \n",
    "reliefweb06_df= pd.read_csv(\"../data/reliefweb_floods_after06.csv\",\n",
    "                            parse_dates = [\"datetime\"])"
   ]
  },
  {
   "cell_type": "markdown",
   "metadata": {},
   "source": [
    "### Examine the dataframe\n",
    "Take a quick look at the imported csv file. Check for null values, number of rows, and data types. "
   ]
  },
  {
   "cell_type": "code",
   "execution_count": 3,
   "metadata": {},
   "outputs": [
    {
     "data": {
      "text/html": [
       "<div>\n",
       "<style scoped>\n",
       "    .dataframe tbody tr th:only-of-type {\n",
       "        vertical-align: middle;\n",
       "    }\n",
       "\n",
       "    .dataframe tbody tr th {\n",
       "        vertical-align: top;\n",
       "    }\n",
       "\n",
       "    .dataframe thead th {\n",
       "        text-align: right;\n",
       "    }\n",
       "</style>\n",
       "<table border=\"1\" class=\"dataframe\">\n",
       "  <thead>\n",
       "    <tr style=\"text-align: right;\">\n",
       "      <th></th>\n",
       "      <th>title</th>\n",
       "      <th>date</th>\n",
       "      <th>body</th>\n",
       "      <th>url</th>\n",
       "      <th>datetime</th>\n",
       "    </tr>\n",
       "  </thead>\n",
       "  <tbody>\n",
       "    <tr>\n",
       "      <th>0</th>\n",
       "      <td>Situation report on Flood/Heavy Rain fall as o...</td>\n",
       "      <td>21 Oct 2019</td>\n",
       "      <td>\\nMinistry of Home Affairs\\nDisaster Managemen...</td>\n",
       "      <td>https://reliefweb.int/node/3365543</td>\n",
       "      <td>2019-10-21</td>\n",
       "    </tr>\n",
       "    <tr>\n",
       "      <th>1</th>\n",
       "      <td>India: Monsoon Rains and Floods Emergency Plan...</td>\n",
       "      <td>18 Oct 2019</td>\n",
       "      <td>\\nA. SITUATION ANALYSIS\\nDescription of the di...</td>\n",
       "      <td>https://reliefweb.int/node/3354153</td>\n",
       "      <td>2019-10-18</td>\n",
       "    </tr>\n",
       "    <tr>\n",
       "      <th>2</th>\n",
       "      <td>India: Monsoon Floods Emergency Plan of Action...</td>\n",
       "      <td>14 Sep 2019</td>\n",
       "      <td>\\nA. SITUATION ANALYSIS\\nDescription of the di...</td>\n",
       "      <td>https://reliefweb.int/node/3303423</td>\n",
       "      <td>2019-09-14</td>\n",
       "    </tr>\n",
       "    <tr>\n",
       "      <th>3</th>\n",
       "      <td>Situation report on Flood/Heavy Rainfall as on...</td>\n",
       "      <td>05 Sep 2019</td>\n",
       "      <td>\\n1. Forecast\\ni. IMD\\n\\n05 September (Day 1):...</td>\n",
       "      <td>https://reliefweb.int/node/3292673</td>\n",
       "      <td>2019-09-05</td>\n",
       "    </tr>\n",
       "    <tr>\n",
       "      <th>4</th>\n",
       "      <td>Situation report on Flood/Heavy Rain fall as o...</td>\n",
       "      <td>02 Sep 2019</td>\n",
       "      <td>\\n1. Forecast\\ni. IMD\\n• 02 September (Day 1):...</td>\n",
       "      <td>https://reliefweb.int/node/3287208</td>\n",
       "      <td>2019-09-02</td>\n",
       "    </tr>\n",
       "  </tbody>\n",
       "</table>\n",
       "</div>"
      ],
      "text/plain": [
       "                                               title         date  \\\n",
       "0  Situation report on Flood/Heavy Rain fall as o...  21 Oct 2019   \n",
       "1  India: Monsoon Rains and Floods Emergency Plan...  18 Oct 2019   \n",
       "2  India: Monsoon Floods Emergency Plan of Action...  14 Sep 2019   \n",
       "3  Situation report on Flood/Heavy Rainfall as on...  05 Sep 2019   \n",
       "4  Situation report on Flood/Heavy Rain fall as o...  02 Sep 2019   \n",
       "\n",
       "                                                body  \\\n",
       "0  \\nMinistry of Home Affairs\\nDisaster Managemen...   \n",
       "1  \\nA. SITUATION ANALYSIS\\nDescription of the di...   \n",
       "2  \\nA. SITUATION ANALYSIS\\nDescription of the di...   \n",
       "3  \\n1. Forecast\\ni. IMD\\n\\n05 September (Day 1):...   \n",
       "4  \\n1. Forecast\\ni. IMD\\n• 02 September (Day 1):...   \n",
       "\n",
       "                                  url   datetime  \n",
       "0  https://reliefweb.int/node/3365543 2019-10-21  \n",
       "1  https://reliefweb.int/node/3354153 2019-10-18  \n",
       "2  https://reliefweb.int/node/3303423 2019-09-14  \n",
       "3  https://reliefweb.int/node/3292673 2019-09-05  \n",
       "4  https://reliefweb.int/node/3287208 2019-09-02  "
      ]
     },
     "execution_count": 3,
     "metadata": {},
     "output_type": "execute_result"
    }
   ],
   "source": [
    "# check\n",
    "reliefweb06_df.head()"
   ]
  },
  {
   "cell_type": "code",
   "execution_count": 4,
   "metadata": {},
   "outputs": [
    {
     "name": "stdout",
     "output_type": "stream",
     "text": [
      "<class 'pandas.core.frame.DataFrame'>\n",
      "RangeIndex: 344 entries, 0 to 343\n",
      "Data columns (total 5 columns):\n",
      "title       344 non-null object\n",
      "date        344 non-null object\n",
      "body        344 non-null object\n",
      "url         344 non-null object\n",
      "datetime    344 non-null datetime64[ns]\n",
      "dtypes: datetime64[ns](1), object(4)\n",
      "memory usage: 13.6+ KB\n"
     ]
    }
   ],
   "source": [
    "# check types and non-null value count\n",
    "reliefweb06_df.info()"
   ]
  },
  {
   "cell_type": "code",
   "execution_count": 5,
   "metadata": {},
   "outputs": [
    {
     "data": {
      "text/plain": [
       "title       0\n",
       "date        0\n",
       "body        0\n",
       "url         0\n",
       "datetime    0\n",
       "dtype: int64"
      ]
     },
     "execution_count": 5,
     "metadata": {},
     "output_type": "execute_result"
    }
   ],
   "source": [
    "# double check for nulls\n",
    "reliefweb06_df.isnull().sum()"
   ]
  },
  {
   "cell_type": "markdown",
   "metadata": {},
   "source": [
    "After the initial look at the dataframe, I can see there are no null values for any of the rows. There are 344 rows of data pulled from reliefweb.int which are the articles after 2006. All the columns, except the datetime are object (string) types which makes sense for this being textual data. The datetime is a datetime type which was created from the date (string) in the previous notebook."
   ]
  },
  {
   "cell_type": "code",
   "execution_count": 6,
   "metadata": {},
   "outputs": [
    {
     "data": {
      "text/plain": [
       "Timestamp('2019-10-18 00:00:00')"
      ]
     },
     "execution_count": 6,
     "metadata": {},
     "output_type": "execute_result"
    }
   ],
   "source": [
    "# check how the datetime data is formatted\n",
    "reliefweb06_df[\"datetime\"][1]"
   ]
  },
  {
   "cell_type": "markdown",
   "metadata": {},
   "source": [
    "### Source column \n",
    "A column named \"source\" will be created. This column will show from where the data comes.   Since this entire csv file is from one source (reliefweb.int) the column will be created and \"reliefweb\" will be inserted for each observation."
   ]
  },
  {
   "cell_type": "code",
   "execution_count": 7,
   "metadata": {},
   "outputs": [
    {
     "data": {
      "text/html": [
       "<div>\n",
       "<style scoped>\n",
       "    .dataframe tbody tr th:only-of-type {\n",
       "        vertical-align: middle;\n",
       "    }\n",
       "\n",
       "    .dataframe tbody tr th {\n",
       "        vertical-align: top;\n",
       "    }\n",
       "\n",
       "    .dataframe thead th {\n",
       "        text-align: right;\n",
       "    }\n",
       "</style>\n",
       "<table border=\"1\" class=\"dataframe\">\n",
       "  <thead>\n",
       "    <tr style=\"text-align: right;\">\n",
       "      <th></th>\n",
       "      <th>title</th>\n",
       "      <th>date</th>\n",
       "      <th>body</th>\n",
       "      <th>url</th>\n",
       "      <th>datetime</th>\n",
       "      <th>source</th>\n",
       "    </tr>\n",
       "  </thead>\n",
       "  <tbody>\n",
       "    <tr>\n",
       "      <th>0</th>\n",
       "      <td>Situation report on Flood/Heavy Rain fall as o...</td>\n",
       "      <td>21 Oct 2019</td>\n",
       "      <td>\\nMinistry of Home Affairs\\nDisaster Managemen...</td>\n",
       "      <td>https://reliefweb.int/node/3365543</td>\n",
       "      <td>2019-10-21</td>\n",
       "      <td>reliefweb</td>\n",
       "    </tr>\n",
       "    <tr>\n",
       "      <th>1</th>\n",
       "      <td>India: Monsoon Rains and Floods Emergency Plan...</td>\n",
       "      <td>18 Oct 2019</td>\n",
       "      <td>\\nA. SITUATION ANALYSIS\\nDescription of the di...</td>\n",
       "      <td>https://reliefweb.int/node/3354153</td>\n",
       "      <td>2019-10-18</td>\n",
       "      <td>reliefweb</td>\n",
       "    </tr>\n",
       "    <tr>\n",
       "      <th>2</th>\n",
       "      <td>India: Monsoon Floods Emergency Plan of Action...</td>\n",
       "      <td>14 Sep 2019</td>\n",
       "      <td>\\nA. SITUATION ANALYSIS\\nDescription of the di...</td>\n",
       "      <td>https://reliefweb.int/node/3303423</td>\n",
       "      <td>2019-09-14</td>\n",
       "      <td>reliefweb</td>\n",
       "    </tr>\n",
       "    <tr>\n",
       "      <th>3</th>\n",
       "      <td>Situation report on Flood/Heavy Rainfall as on...</td>\n",
       "      <td>05 Sep 2019</td>\n",
       "      <td>\\n1. Forecast\\ni. IMD\\n\\n05 September (Day 1):...</td>\n",
       "      <td>https://reliefweb.int/node/3292673</td>\n",
       "      <td>2019-09-05</td>\n",
       "      <td>reliefweb</td>\n",
       "    </tr>\n",
       "    <tr>\n",
       "      <th>4</th>\n",
       "      <td>Situation report on Flood/Heavy Rain fall as o...</td>\n",
       "      <td>02 Sep 2019</td>\n",
       "      <td>\\n1. Forecast\\ni. IMD\\n• 02 September (Day 1):...</td>\n",
       "      <td>https://reliefweb.int/node/3287208</td>\n",
       "      <td>2019-09-02</td>\n",
       "      <td>reliefweb</td>\n",
       "    </tr>\n",
       "  </tbody>\n",
       "</table>\n",
       "</div>"
      ],
      "text/plain": [
       "                                               title         date  \\\n",
       "0  Situation report on Flood/Heavy Rain fall as o...  21 Oct 2019   \n",
       "1  India: Monsoon Rains and Floods Emergency Plan...  18 Oct 2019   \n",
       "2  India: Monsoon Floods Emergency Plan of Action...  14 Sep 2019   \n",
       "3  Situation report on Flood/Heavy Rainfall as on...  05 Sep 2019   \n",
       "4  Situation report on Flood/Heavy Rain fall as o...  02 Sep 2019   \n",
       "\n",
       "                                                body  \\\n",
       "0  \\nMinistry of Home Affairs\\nDisaster Managemen...   \n",
       "1  \\nA. SITUATION ANALYSIS\\nDescription of the di...   \n",
       "2  \\nA. SITUATION ANALYSIS\\nDescription of the di...   \n",
       "3  \\n1. Forecast\\ni. IMD\\n\\n05 September (Day 1):...   \n",
       "4  \\n1. Forecast\\ni. IMD\\n• 02 September (Day 1):...   \n",
       "\n",
       "                                  url   datetime     source  \n",
       "0  https://reliefweb.int/node/3365543 2019-10-21  reliefweb  \n",
       "1  https://reliefweb.int/node/3354153 2019-10-18  reliefweb  \n",
       "2  https://reliefweb.int/node/3303423 2019-09-14  reliefweb  \n",
       "3  https://reliefweb.int/node/3292673 2019-09-05  reliefweb  \n",
       "4  https://reliefweb.int/node/3287208 2019-09-02  reliefweb  "
      ]
     },
     "execution_count": 7,
     "metadata": {},
     "output_type": "execute_result"
    }
   ],
   "source": [
    "# Create column for the source of this data\n",
    "reliefweb06_df[\"source\"] = \"reliefweb\"\n",
    "\n",
    "# check\n",
    "reliefweb06_df.head()"
   ]
  },
  {
   "cell_type": "markdown",
   "metadata": {},
   "source": [
    "## Processing the text data\n",
    "Convert all text to lowercase and replace line breaks with spaces. This will be done for the title and body of each row. "
   ]
  },
  {
   "cell_type": "code",
   "execution_count": 8,
   "metadata": {},
   "outputs": [],
   "source": [
    "def text_processing(df, column): \n",
    "    # Change all text to lowercase for movies dataframe body \n",
    "    df[column]= df[column].map(lambda x: x.lower())\n",
    "\n",
    "    # Change line breaks into a space\n",
    "    df[column] = df[column].replace(r\"[\\r\\n]+\", \" \", regex=True)"
   ]
  },
  {
   "cell_type": "code",
   "execution_count": 9,
   "metadata": {},
   "outputs": [],
   "source": [
    "# processing the title and body of each row of the dataframe\n",
    "text_processing(reliefweb06_df, \"body\")\n",
    "text_processing(reliefweb06_df, \"title\")"
   ]
  },
  {
   "cell_type": "code",
   "execution_count": 10,
   "metadata": {},
   "outputs": [
    {
     "data": {
      "text/html": [
       "<div>\n",
       "<style scoped>\n",
       "    .dataframe tbody tr th:only-of-type {\n",
       "        vertical-align: middle;\n",
       "    }\n",
       "\n",
       "    .dataframe tbody tr th {\n",
       "        vertical-align: top;\n",
       "    }\n",
       "\n",
       "    .dataframe thead th {\n",
       "        text-align: right;\n",
       "    }\n",
       "</style>\n",
       "<table border=\"1\" class=\"dataframe\">\n",
       "  <thead>\n",
       "    <tr style=\"text-align: right;\">\n",
       "      <th></th>\n",
       "      <th>title</th>\n",
       "      <th>date</th>\n",
       "      <th>body</th>\n",
       "      <th>url</th>\n",
       "      <th>datetime</th>\n",
       "      <th>source</th>\n",
       "    </tr>\n",
       "  </thead>\n",
       "  <tbody>\n",
       "    <tr>\n",
       "      <th>0</th>\n",
       "      <td>situation report on flood/heavy rain fall as o...</td>\n",
       "      <td>21 Oct 2019</td>\n",
       "      <td>ministry of home affairs disaster management ...</td>\n",
       "      <td>https://reliefweb.int/node/3365543</td>\n",
       "      <td>2019-10-21</td>\n",
       "      <td>reliefweb</td>\n",
       "    </tr>\n",
       "    <tr>\n",
       "      <th>1</th>\n",
       "      <td>india: monsoon rains and floods emergency plan...</td>\n",
       "      <td>18 Oct 2019</td>\n",
       "      <td>a. situation analysis description of the disa...</td>\n",
       "      <td>https://reliefweb.int/node/3354153</td>\n",
       "      <td>2019-10-18</td>\n",
       "      <td>reliefweb</td>\n",
       "    </tr>\n",
       "    <tr>\n",
       "      <th>2</th>\n",
       "      <td>india: monsoon floods emergency plan of action...</td>\n",
       "      <td>14 Sep 2019</td>\n",
       "      <td>a. situation analysis description of the disa...</td>\n",
       "      <td>https://reliefweb.int/node/3303423</td>\n",
       "      <td>2019-09-14</td>\n",
       "      <td>reliefweb</td>\n",
       "    </tr>\n",
       "    <tr>\n",
       "      <th>3</th>\n",
       "      <td>situation report on flood/heavy rainfall as on...</td>\n",
       "      <td>05 Sep 2019</td>\n",
       "      <td>1. forecast i. imd 05 september (day 1): ♦ he...</td>\n",
       "      <td>https://reliefweb.int/node/3292673</td>\n",
       "      <td>2019-09-05</td>\n",
       "      <td>reliefweb</td>\n",
       "    </tr>\n",
       "    <tr>\n",
       "      <th>4</th>\n",
       "      <td>situation report on flood/heavy rain fall as o...</td>\n",
       "      <td>02 Sep 2019</td>\n",
       "      <td>1. forecast i. imd • 02 september (day 1): ♦ ...</td>\n",
       "      <td>https://reliefweb.int/node/3287208</td>\n",
       "      <td>2019-09-02</td>\n",
       "      <td>reliefweb</td>\n",
       "    </tr>\n",
       "  </tbody>\n",
       "</table>\n",
       "</div>"
      ],
      "text/plain": [
       "                                               title         date  \\\n",
       "0  situation report on flood/heavy rain fall as o...  21 Oct 2019   \n",
       "1  india: monsoon rains and floods emergency plan...  18 Oct 2019   \n",
       "2  india: monsoon floods emergency plan of action...  14 Sep 2019   \n",
       "3  situation report on flood/heavy rainfall as on...  05 Sep 2019   \n",
       "4  situation report on flood/heavy rain fall as o...  02 Sep 2019   \n",
       "\n",
       "                                                body  \\\n",
       "0   ministry of home affairs disaster management ...   \n",
       "1   a. situation analysis description of the disa...   \n",
       "2   a. situation analysis description of the disa...   \n",
       "3   1. forecast i. imd 05 september (day 1): ♦ he...   \n",
       "4   1. forecast i. imd • 02 september (day 1): ♦ ...   \n",
       "\n",
       "                                  url   datetime     source  \n",
       "0  https://reliefweb.int/node/3365543 2019-10-21  reliefweb  \n",
       "1  https://reliefweb.int/node/3354153 2019-10-18  reliefweb  \n",
       "2  https://reliefweb.int/node/3303423 2019-09-14  reliefweb  \n",
       "3  https://reliefweb.int/node/3292673 2019-09-05  reliefweb  \n",
       "4  https://reliefweb.int/node/3287208 2019-09-02  reliefweb  "
      ]
     },
     "execution_count": 10,
     "metadata": {},
     "output_type": "execute_result"
    }
   ],
   "source": [
    "# check\n",
    "reliefweb06_df.head()"
   ]
  },
  {
   "cell_type": "markdown",
   "metadata": {},
   "source": [
    "### Create a column which combines the title and body \n",
    "A new column called \"text\" will be created which is the text from the \"title\" and \"body\" of each observation with a space separating them."
   ]
  },
  {
   "cell_type": "code",
   "execution_count": 11,
   "metadata": {},
   "outputs": [],
   "source": [
    "# Function to combine columns of text into one new text column for the dataframe\n",
    "def combine_text(df, column1, column2):\n",
    "    df[\"text\"] = df[column1] + \" \" + df[column2]"
   ]
  },
  {
   "cell_type": "code",
   "execution_count": 12,
   "metadata": {},
   "outputs": [
    {
     "data": {
      "text/html": [
       "<div>\n",
       "<style scoped>\n",
       "    .dataframe tbody tr th:only-of-type {\n",
       "        vertical-align: middle;\n",
       "    }\n",
       "\n",
       "    .dataframe tbody tr th {\n",
       "        vertical-align: top;\n",
       "    }\n",
       "\n",
       "    .dataframe thead th {\n",
       "        text-align: right;\n",
       "    }\n",
       "</style>\n",
       "<table border=\"1\" class=\"dataframe\">\n",
       "  <thead>\n",
       "    <tr style=\"text-align: right;\">\n",
       "      <th></th>\n",
       "      <th>title</th>\n",
       "      <th>date</th>\n",
       "      <th>body</th>\n",
       "      <th>url</th>\n",
       "      <th>datetime</th>\n",
       "      <th>source</th>\n",
       "      <th>text</th>\n",
       "    </tr>\n",
       "  </thead>\n",
       "  <tbody>\n",
       "    <tr>\n",
       "      <th>0</th>\n",
       "      <td>situation report on flood/heavy rain fall as o...</td>\n",
       "      <td>21 Oct 2019</td>\n",
       "      <td>ministry of home affairs disaster management ...</td>\n",
       "      <td>https://reliefweb.int/node/3365543</td>\n",
       "      <td>2019-10-21</td>\n",
       "      <td>reliefweb</td>\n",
       "      <td>situation report on flood/heavy rain fall as o...</td>\n",
       "    </tr>\n",
       "    <tr>\n",
       "      <th>1</th>\n",
       "      <td>india: monsoon rains and floods emergency plan...</td>\n",
       "      <td>18 Oct 2019</td>\n",
       "      <td>a. situation analysis description of the disa...</td>\n",
       "      <td>https://reliefweb.int/node/3354153</td>\n",
       "      <td>2019-10-18</td>\n",
       "      <td>reliefweb</td>\n",
       "      <td>india: monsoon rains and floods emergency plan...</td>\n",
       "    </tr>\n",
       "    <tr>\n",
       "      <th>2</th>\n",
       "      <td>india: monsoon floods emergency plan of action...</td>\n",
       "      <td>14 Sep 2019</td>\n",
       "      <td>a. situation analysis description of the disa...</td>\n",
       "      <td>https://reliefweb.int/node/3303423</td>\n",
       "      <td>2019-09-14</td>\n",
       "      <td>reliefweb</td>\n",
       "      <td>india: monsoon floods emergency plan of action...</td>\n",
       "    </tr>\n",
       "    <tr>\n",
       "      <th>3</th>\n",
       "      <td>situation report on flood/heavy rainfall as on...</td>\n",
       "      <td>05 Sep 2019</td>\n",
       "      <td>1. forecast i. imd 05 september (day 1): ♦ he...</td>\n",
       "      <td>https://reliefweb.int/node/3292673</td>\n",
       "      <td>2019-09-05</td>\n",
       "      <td>reliefweb</td>\n",
       "      <td>situation report on flood/heavy rainfall as on...</td>\n",
       "    </tr>\n",
       "    <tr>\n",
       "      <th>4</th>\n",
       "      <td>situation report on flood/heavy rain fall as o...</td>\n",
       "      <td>02 Sep 2019</td>\n",
       "      <td>1. forecast i. imd • 02 september (day 1): ♦ ...</td>\n",
       "      <td>https://reliefweb.int/node/3287208</td>\n",
       "      <td>2019-09-02</td>\n",
       "      <td>reliefweb</td>\n",
       "      <td>situation report on flood/heavy rain fall as o...</td>\n",
       "    </tr>\n",
       "  </tbody>\n",
       "</table>\n",
       "</div>"
      ],
      "text/plain": [
       "                                               title         date  \\\n",
       "0  situation report on flood/heavy rain fall as o...  21 Oct 2019   \n",
       "1  india: monsoon rains and floods emergency plan...  18 Oct 2019   \n",
       "2  india: monsoon floods emergency plan of action...  14 Sep 2019   \n",
       "3  situation report on flood/heavy rainfall as on...  05 Sep 2019   \n",
       "4  situation report on flood/heavy rain fall as o...  02 Sep 2019   \n",
       "\n",
       "                                                body  \\\n",
       "0   ministry of home affairs disaster management ...   \n",
       "1   a. situation analysis description of the disa...   \n",
       "2   a. situation analysis description of the disa...   \n",
       "3   1. forecast i. imd 05 september (day 1): ♦ he...   \n",
       "4   1. forecast i. imd • 02 september (day 1): ♦ ...   \n",
       "\n",
       "                                  url   datetime     source  \\\n",
       "0  https://reliefweb.int/node/3365543 2019-10-21  reliefweb   \n",
       "1  https://reliefweb.int/node/3354153 2019-10-18  reliefweb   \n",
       "2  https://reliefweb.int/node/3303423 2019-09-14  reliefweb   \n",
       "3  https://reliefweb.int/node/3292673 2019-09-05  reliefweb   \n",
       "4  https://reliefweb.int/node/3287208 2019-09-02  reliefweb   \n",
       "\n",
       "                                                text  \n",
       "0  situation report on flood/heavy rain fall as o...  \n",
       "1  india: monsoon rains and floods emergency plan...  \n",
       "2  india: monsoon floods emergency plan of action...  \n",
       "3  situation report on flood/heavy rainfall as on...  \n",
       "4  situation report on flood/heavy rain fall as o...  "
      ]
     },
     "execution_count": 12,
     "metadata": {},
     "output_type": "execute_result"
    }
   ],
   "source": [
    "# combine the title and body of each observation in the dataframe\n",
    "combine_text(reliefweb06_df, \"title\", \"body\")\n",
    "\n",
    "# check\n",
    "reliefweb06_df.head()"
   ]
  },
  {
   "cell_type": "markdown",
   "metadata": {},
   "source": [
    "### Create \"new\" dataframe \n",
    "In preparation of eventually combining all the collected csv files into one, the format  will be a text (combined all text) column,a date (as a datetime type) column, and a source(naming where the data was pulled from) column. \n",
    "As a precaution against running into a copy warning, `.copy()` is added to the end of the operation. The copy function will create a copy of the columns of the dataframe and when either of dataframes is modified it will not affect the other dataframe. "
   ]
  },
  {
   "cell_type": "code",
   "execution_count": 13,
   "metadata": {},
   "outputs": [],
   "source": [
    "# making new dataframe from the previous one\n",
    "# select the rows interested in: datetime (the date as datetime type), text, source\n",
    "reliefweb_new = reliefweb06_df[['datetime', 'url', 'text']].copy()"
   ]
  },
  {
   "cell_type": "code",
   "execution_count": 14,
   "metadata": {},
   "outputs": [
    {
     "data": {
      "text/html": [
       "<div>\n",
       "<style scoped>\n",
       "    .dataframe tbody tr th:only-of-type {\n",
       "        vertical-align: middle;\n",
       "    }\n",
       "\n",
       "    .dataframe tbody tr th {\n",
       "        vertical-align: top;\n",
       "    }\n",
       "\n",
       "    .dataframe thead th {\n",
       "        text-align: right;\n",
       "    }\n",
       "</style>\n",
       "<table border=\"1\" class=\"dataframe\">\n",
       "  <thead>\n",
       "    <tr style=\"text-align: right;\">\n",
       "      <th></th>\n",
       "      <th>datetime</th>\n",
       "      <th>url</th>\n",
       "      <th>text</th>\n",
       "    </tr>\n",
       "  </thead>\n",
       "  <tbody>\n",
       "    <tr>\n",
       "      <th>0</th>\n",
       "      <td>2019-10-21</td>\n",
       "      <td>https://reliefweb.int/node/3365543</td>\n",
       "      <td>situation report on flood/heavy rain fall as o...</td>\n",
       "    </tr>\n",
       "    <tr>\n",
       "      <th>1</th>\n",
       "      <td>2019-10-18</td>\n",
       "      <td>https://reliefweb.int/node/3354153</td>\n",
       "      <td>india: monsoon rains and floods emergency plan...</td>\n",
       "    </tr>\n",
       "    <tr>\n",
       "      <th>2</th>\n",
       "      <td>2019-09-14</td>\n",
       "      <td>https://reliefweb.int/node/3303423</td>\n",
       "      <td>india: monsoon floods emergency plan of action...</td>\n",
       "    </tr>\n",
       "    <tr>\n",
       "      <th>3</th>\n",
       "      <td>2019-09-05</td>\n",
       "      <td>https://reliefweb.int/node/3292673</td>\n",
       "      <td>situation report on flood/heavy rainfall as on...</td>\n",
       "    </tr>\n",
       "    <tr>\n",
       "      <th>4</th>\n",
       "      <td>2019-09-02</td>\n",
       "      <td>https://reliefweb.int/node/3287208</td>\n",
       "      <td>situation report on flood/heavy rain fall as o...</td>\n",
       "    </tr>\n",
       "  </tbody>\n",
       "</table>\n",
       "</div>"
      ],
      "text/plain": [
       "    datetime                                 url  \\\n",
       "0 2019-10-21  https://reliefweb.int/node/3365543   \n",
       "1 2019-10-18  https://reliefweb.int/node/3354153   \n",
       "2 2019-09-14  https://reliefweb.int/node/3303423   \n",
       "3 2019-09-05  https://reliefweb.int/node/3292673   \n",
       "4 2019-09-02  https://reliefweb.int/node/3287208   \n",
       "\n",
       "                                                text  \n",
       "0  situation report on flood/heavy rain fall as o...  \n",
       "1  india: monsoon rains and floods emergency plan...  \n",
       "2  india: monsoon floods emergency plan of action...  \n",
       "3  situation report on flood/heavy rainfall as on...  \n",
       "4  situation report on flood/heavy rain fall as o...  "
      ]
     },
     "execution_count": 14,
     "metadata": {},
     "output_type": "execute_result"
    }
   ],
   "source": [
    "# check\n",
    "reliefweb_new.head()"
   ]
  },
  {
   "cell_type": "code",
   "execution_count": 15,
   "metadata": {},
   "outputs": [
    {
     "name": "stdout",
     "output_type": "stream",
     "text": [
      "<class 'pandas.core.frame.DataFrame'>\n",
      "RangeIndex: 344 entries, 0 to 343\n",
      "Data columns (total 3 columns):\n",
      "datetime    344 non-null datetime64[ns]\n",
      "url         344 non-null object\n",
      "text        344 non-null object\n",
      "dtypes: datetime64[ns](1), object(2)\n",
      "memory usage: 8.2+ KB\n"
     ]
    }
   ],
   "source": [
    "# check the types \n",
    "reliefweb_new.info()"
   ]
  },
  {
   "cell_type": "markdown",
   "metadata": {},
   "source": [
    "### Rename column names \n",
    "To help with eventual combining of all the csv files (containing text data related to our database search), certain columns will be renamed to be uniform across all csv files. The columns will be a \"date\" column which will be a datetime type column of when the article was published, a \"source\" column which states the source of the data, and a \"text\" column which has the text data of the article (the title and article body)."
   ]
  },
  {
   "cell_type": "code",
   "execution_count": 16,
   "metadata": {},
   "outputs": [],
   "source": [
    "# function to rename columns to \"date\", \"source\", \"text\"\n",
    "def rename_col(df, column_date, column_source, column_text):\n",
    "    df.rename(columns={column_date: \"date\",\n",
    "                       column_source: \"source\", \n",
    "                       column_text :\"text\"}, \n",
    "              inplace = True)"
   ]
  },
  {
   "cell_type": "code",
   "execution_count": 17,
   "metadata": {},
   "outputs": [],
   "source": [
    "# apply function to the dataframe\n",
    "rename_col(reliefweb_new, \"datetime\", \"url\", \"text\")"
   ]
  },
  {
   "cell_type": "code",
   "execution_count": 19,
   "metadata": {},
   "outputs": [
    {
     "data": {
      "text/html": [
       "<div>\n",
       "<style scoped>\n",
       "    .dataframe tbody tr th:only-of-type {\n",
       "        vertical-align: middle;\n",
       "    }\n",
       "\n",
       "    .dataframe tbody tr th {\n",
       "        vertical-align: top;\n",
       "    }\n",
       "\n",
       "    .dataframe thead th {\n",
       "        text-align: right;\n",
       "    }\n",
       "</style>\n",
       "<table border=\"1\" class=\"dataframe\">\n",
       "  <thead>\n",
       "    <tr style=\"text-align: right;\">\n",
       "      <th></th>\n",
       "      <th>date</th>\n",
       "      <th>source</th>\n",
       "      <th>text</th>\n",
       "    </tr>\n",
       "  </thead>\n",
       "  <tbody>\n",
       "    <tr>\n",
       "      <th>0</th>\n",
       "      <td>2019-10-21</td>\n",
       "      <td>https://reliefweb.int/node/3365543</td>\n",
       "      <td>situation report on flood/heavy rain fall as o...</td>\n",
       "    </tr>\n",
       "    <tr>\n",
       "      <th>1</th>\n",
       "      <td>2019-10-18</td>\n",
       "      <td>https://reliefweb.int/node/3354153</td>\n",
       "      <td>india: monsoon rains and floods emergency plan...</td>\n",
       "    </tr>\n",
       "    <tr>\n",
       "      <th>2</th>\n",
       "      <td>2019-09-14</td>\n",
       "      <td>https://reliefweb.int/node/3303423</td>\n",
       "      <td>india: monsoon floods emergency plan of action...</td>\n",
       "    </tr>\n",
       "    <tr>\n",
       "      <th>3</th>\n",
       "      <td>2019-09-05</td>\n",
       "      <td>https://reliefweb.int/node/3292673</td>\n",
       "      <td>situation report on flood/heavy rainfall as on...</td>\n",
       "    </tr>\n",
       "    <tr>\n",
       "      <th>4</th>\n",
       "      <td>2019-09-02</td>\n",
       "      <td>https://reliefweb.int/node/3287208</td>\n",
       "      <td>situation report on flood/heavy rain fall as o...</td>\n",
       "    </tr>\n",
       "  </tbody>\n",
       "</table>\n",
       "</div>"
      ],
      "text/plain": [
       "        date                              source  \\\n",
       "0 2019-10-21  https://reliefweb.int/node/3365543   \n",
       "1 2019-10-18  https://reliefweb.int/node/3354153   \n",
       "2 2019-09-14  https://reliefweb.int/node/3303423   \n",
       "3 2019-09-05  https://reliefweb.int/node/3292673   \n",
       "4 2019-09-02  https://reliefweb.int/node/3287208   \n",
       "\n",
       "                                                text  \n",
       "0  situation report on flood/heavy rain fall as o...  \n",
       "1  india: monsoon rains and floods emergency plan...  \n",
       "2  india: monsoon floods emergency plan of action...  \n",
       "3  situation report on flood/heavy rainfall as on...  \n",
       "4  situation report on flood/heavy rain fall as o...  "
      ]
     },
     "execution_count": 19,
     "metadata": {},
     "output_type": "execute_result"
    }
   ],
   "source": [
    "# check\n",
    "reliefweb_new.head()"
   ]
  },
  {
   "cell_type": "markdown",
   "metadata": {},
   "source": [
    "## Save the new dataframe to a csv\n",
    "This \"new\" dataframe should only have the three expected columns and has all the cleaning done to the text. "
   ]
  },
  {
   "cell_type": "code",
   "execution_count": 20,
   "metadata": {},
   "outputs": [],
   "source": [
    "# create csv file from the new dataframe\n",
    "reliefweb_new.to_csv(\"../data/reliefweb_clean.csv\", index = False)"
   ]
  },
  {
   "cell_type": "markdown",
   "metadata": {},
   "source": [
    "**Summary**: In this notebook a csv file was cleaned and processed to get it correctly formatted for text analysis. A new csv file was also created including the columns which will be required for the ultimate combined csv of all the csv files. In the next notebook, some intial text analysis will be done to try to find the most important sentences from the articles collected. "
   ]
  }
 ],
 "metadata": {
  "kernelspec": {
   "display_name": "Python 3",
   "language": "python",
   "name": "python3"
  },
  "language_info": {
   "codemirror_mode": {
    "name": "ipython",
    "version": 3
   },
   "file_extension": ".py",
   "mimetype": "text/x-python",
   "name": "python",
   "nbconvert_exporter": "python",
   "pygments_lexer": "ipython3",
   "version": "3.7.3"
  }
 },
 "nbformat": 4,
 "nbformat_minor": 2
}
