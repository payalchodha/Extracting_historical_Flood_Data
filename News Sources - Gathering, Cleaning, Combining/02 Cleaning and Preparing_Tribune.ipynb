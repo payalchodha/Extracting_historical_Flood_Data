{
 "cells": [
  {
   "cell_type": "code",
   "execution_count": 1,
   "metadata": {},
   "outputs": [],
   "source": [
    "import pandas as pd\n",
    "import numpy as np\n",
    "import re\n",
    "\n",
    "import matplotlib.pyplot as plt\n",
    "%matplotlib inline"
   ]
  },
  {
   "cell_type": "markdown",
   "metadata": {},
   "source": [
    "## Read csv files"
   ]
  },
  {
   "cell_type": "code",
   "execution_count": 5,
   "metadata": {},
   "outputs": [],
   "source": [
    "flood_text = pd.read_csv('../data/trib_flood_text.csv')\n",
    "\n",
    "flooded_text = pd.read_csv('../data/trib_flooded_text.csv')\n",
    "\n",
    "flooding_text = pd.read_csv('../data/trib_flooding_text.csv')\n",
    "\n",
    "monsoon_text = pd.read_csv('../data/trib_monsoon_text.csv')\n",
    "\n",
    "heavy_rain_text = pd.read_csv('../data/trib_heavy_rain_text.csv')"
   ]
  },
  {
   "cell_type": "code",
   "execution_count": 6,
   "metadata": {},
   "outputs": [],
   "source": [
    "flood_url = pd.read_csv('../data/trib_flood_url.csv')\n",
    "\n",
    "flooded_url = pd.read_csv('../data/trib_flooded_url.csv')\n",
    "\n",
    "flooding_url = pd.read_csv('../data/trib_flooding_url.csv')\n",
    "\n",
    "monsoon_url = pd.read_csv('../data/trib_monsoon_url.csv')\n",
    "\n",
    "heavy_rain_url = pd.read_csv('../data/trib_heavy_rain_url.csv')"
   ]
  },
  {
   "cell_type": "markdown",
   "metadata": {},
   "source": [
    "## Formatting\n",
    "\n",
    "- Make date column datetime object\n",
    "\n",
    "- Enter full url into url column \n",
    "\n",
    "- Format combined csv into 3 columns: date, url and combined text (text)\n",
    "\n",
    "- Combine headline and text"
   ]
  },
  {
   "cell_type": "markdown",
   "metadata": {},
   "source": [
    "### *make date a datetime object*"
   ]
  },
  {
   "cell_type": "code",
   "execution_count": 7,
   "metadata": {},
   "outputs": [],
   "source": [
    "url_list = [flood_url, flooded_url, flooding_url, monsoon_url, heavy_rain_url]\n",
    "\n",
    "def to_datetime(df_list):\n",
    "    \n",
    "    for df in df_list:  \n",
    "        #removing time stamp\n",
    "        df['date']= df['date'].map(lambda x: x[:-10])\n",
    "        \n",
    "        #converting to datetime object\n",
    "        df['date'] = pd.to_datetime(df['date'])\n",
    "\n",
    "to_datetime(url_list)"
   ]
  },
  {
   "cell_type": "markdown",
   "metadata": {},
   "source": [
    "### *check to see if date changed to datetime*"
   ]
  },
  {
   "cell_type": "code",
   "execution_count": 8,
   "metadata": {},
   "outputs": [
    {
     "name": "stdout",
     "output_type": "stream",
     "text": [
      "<class 'pandas.core.frame.DataFrame'>\n",
      "RangeIndex: 301 entries, 0 to 300\n",
      "Data columns (total 4 columns):\n",
      "headline    301 non-null object\n",
      "date        301 non-null datetime64[ns]\n",
      "caption     301 non-null object\n",
      "url         301 non-null object\n",
      "dtypes: datetime64[ns](1), object(3)\n",
      "memory usage: 9.5+ KB\n",
      "None\n",
      "\n",
      "<class 'pandas.core.frame.DataFrame'>\n",
      "RangeIndex: 232 entries, 0 to 231\n",
      "Data columns (total 4 columns):\n",
      "headline    232 non-null object\n",
      "date        232 non-null datetime64[ns]\n",
      "caption     232 non-null object\n",
      "url         232 non-null object\n",
      "dtypes: datetime64[ns](1), object(3)\n",
      "memory usage: 7.4+ KB\n",
      "None\n",
      "\n",
      "<class 'pandas.core.frame.DataFrame'>\n",
      "RangeIndex: 120 entries, 0 to 119\n",
      "Data columns (total 4 columns):\n",
      "headline    120 non-null object\n",
      "date        120 non-null datetime64[ns]\n",
      "caption     120 non-null object\n",
      "url         120 non-null object\n",
      "dtypes: datetime64[ns](1), object(3)\n",
      "memory usage: 3.9+ KB\n",
      "None\n",
      "\n",
      "<class 'pandas.core.frame.DataFrame'>\n",
      "RangeIndex: 323 entries, 0 to 322\n",
      "Data columns (total 4 columns):\n",
      "headline    323 non-null object\n",
      "date        323 non-null datetime64[ns]\n",
      "caption     323 non-null object\n",
      "url         323 non-null object\n",
      "dtypes: datetime64[ns](1), object(3)\n",
      "memory usage: 10.2+ KB\n",
      "None\n",
      "\n",
      "<class 'pandas.core.frame.DataFrame'>\n",
      "RangeIndex: 118 entries, 0 to 117\n",
      "Data columns (total 4 columns):\n",
      "headline    118 non-null object\n",
      "date        118 non-null datetime64[ns]\n",
      "caption     118 non-null object\n",
      "url         118 non-null object\n",
      "dtypes: datetime64[ns](1), object(3)\n",
      "memory usage: 3.8+ KB\n",
      "None\n",
      "\n"
     ]
    }
   ],
   "source": [
    "def datatype(df_list):\n",
    "    for df in df_list:\n",
    "        print(df.info())\n",
    "        print('')\n",
    "        \n",
    "datatype(url_list)"
   ]
  },
  {
   "cell_type": "markdown",
   "metadata": {},
   "source": [
    "### *add full url to url column*"
   ]
  },
  {
   "cell_type": "code",
   "execution_count": 9,
   "metadata": {},
   "outputs": [],
   "source": [
    "flood_url['url'] = flood_url['url'].map(lambda x: 'https://www.tribuneindia.com' + x)\n",
    "flooded_url['url'] = flooded_url['url'].map(lambda x: 'https://www.tribuneindia.com' + x)\n",
    "flooding_url['url'] = flooding_url['url'].map(lambda x: 'https://www.tribuneindia.com' + x)\n",
    "monsoon_url['url'] = monsoon_url['url'].map(lambda x: 'https://www.tribuneindia.com' + x)\n",
    "heavy_rain_url['url'] = heavy_rain_url['url'].map(lambda x: 'https://www.tribuneindia.com' + x)"
   ]
  },
  {
   "cell_type": "markdown",
   "metadata": {},
   "source": [
    "### *scaled df*"
   ]
  },
  {
   "cell_type": "code",
   "execution_count": 10,
   "metadata": {},
   "outputs": [],
   "source": [
    "flood_url = flood_url[['date', 'url', 'headline']]\n",
    "flooded_url = flooded_url[['date', 'url', 'headline']]\n",
    "flooding_url = flooding_url[['date', 'url', 'headline']]\n",
    "monsoon_url = monsoon_url[['date', 'url', 'headline']]\n",
    "heavy_rain_url = heavy_rain_url[['date', 'url', 'headline']]"
   ]
  },
  {
   "cell_type": "code",
   "execution_count": 11,
   "metadata": {},
   "outputs": [
    {
     "data": {
      "text/html": [
       "<div>\n",
       "<style scoped>\n",
       "    .dataframe tbody tr th:only-of-type {\n",
       "        vertical-align: middle;\n",
       "    }\n",
       "\n",
       "    .dataframe tbody tr th {\n",
       "        vertical-align: top;\n",
       "    }\n",
       "\n",
       "    .dataframe thead th {\n",
       "        text-align: right;\n",
       "    }\n",
       "</style>\n",
       "<table border=\"1\" class=\"dataframe\">\n",
       "  <thead>\n",
       "    <tr style=\"text-align: right;\">\n",
       "      <th></th>\n",
       "      <th>date</th>\n",
       "      <th>url</th>\n",
       "      <th>headline</th>\n",
       "    </tr>\n",
       "  </thead>\n",
       "  <tbody>\n",
       "    <tr>\n",
       "      <td>0</td>\n",
       "      <td>2019-10-21</td>\n",
       "      <td>https://www.tribuneindia.com/news/punjab/flood...</td>\n",
       "      <td>Flood-hit farmers to get 9k-quintal wheat seed</td>\n",
       "    </tr>\n",
       "    <tr>\n",
       "      <td>1</td>\n",
       "      <td>2019-10-16</td>\n",
       "      <td>https://www.tribuneindia.com/news/punjab/debt-...</td>\n",
       "      <td>Debt relief likely for flood-hit farmers</td>\n",
       "    </tr>\n",
       "    <tr>\n",
       "      <td>2</td>\n",
       "      <td>2019-10-14</td>\n",
       "      <td>https://www.tribuneindia.com/news/punjab/no-wh...</td>\n",
       "      <td>No wheat seed disbursal, farmers livid</td>\n",
       "    </tr>\n",
       "    <tr>\n",
       "      <td>3</td>\n",
       "      <td>2019-10-14</td>\n",
       "      <td>https://www.tribuneindia.com/news/punjab/farme...</td>\n",
       "      <td>Farmers in flood-affected areas to get free wh...</td>\n",
       "    </tr>\n",
       "    <tr>\n",
       "      <td>4</td>\n",
       "      <td>2019-10-11</td>\n",
       "      <td>https://www.tribuneindia.com/news/punjab/busin...</td>\n",
       "      <td>Business sinks in mandis of flood-hit Lohian</td>\n",
       "    </tr>\n",
       "  </tbody>\n",
       "</table>\n",
       "</div>"
      ],
      "text/plain": [
       "        date                                                url  \\\n",
       "0 2019-10-21  https://www.tribuneindia.com/news/punjab/flood...   \n",
       "1 2019-10-16  https://www.tribuneindia.com/news/punjab/debt-...   \n",
       "2 2019-10-14  https://www.tribuneindia.com/news/punjab/no-wh...   \n",
       "3 2019-10-14  https://www.tribuneindia.com/news/punjab/farme...   \n",
       "4 2019-10-11  https://www.tribuneindia.com/news/punjab/busin...   \n",
       "\n",
       "                                            headline  \n",
       "0     Flood-hit farmers to get 9k-quintal wheat seed  \n",
       "1           Debt relief likely for flood-hit farmers  \n",
       "2             No wheat seed disbursal, farmers livid  \n",
       "3  Farmers in flood-affected areas to get free wh...  \n",
       "4       Business sinks in mandis of flood-hit Lohian  "
      ]
     },
     "execution_count": 11,
     "metadata": {},
     "output_type": "execute_result"
    }
   ],
   "source": [
    "flood_url.head()"
   ]
  },
  {
   "cell_type": "markdown",
   "metadata": {},
   "source": [
    "### *Combine headline from df_url with text from df_text*"
   ]
  },
  {
   "cell_type": "code",
   "execution_count": 9,
   "metadata": {},
   "outputs": [],
   "source": [
    "flood = flood_url.join(flood_text)\n",
    "flooded = flooded_url.join(flooded_text)\n",
    "flooding = flooding_url.join(flooding_text)\n",
    "monsoon = monsoon_url.join(monsoon_text)\n",
    "heavy_rain = heavy_rain_url.join(heavy_rain_text)"
   ]
  },
  {
   "cell_type": "code",
   "execution_count": 10,
   "metadata": {},
   "outputs": [
    {
     "name": "stdout",
     "output_type": "stream",
     "text": [
      "<class 'pandas.core.frame.DataFrame'>\n",
      "RangeIndex: 301 entries, 0 to 300\n",
      "Data columns (total 4 columns):\n",
      "date        301 non-null datetime64[ns]\n",
      "url         301 non-null object\n",
      "headline    301 non-null object\n",
      "text        301 non-null object\n",
      "dtypes: datetime64[ns](1), object(3)\n",
      "memory usage: 9.5+ KB\n",
      "None\n",
      "\n",
      "<class 'pandas.core.frame.DataFrame'>\n",
      "RangeIndex: 232 entries, 0 to 231\n",
      "Data columns (total 4 columns):\n",
      "date        232 non-null datetime64[ns]\n",
      "url         232 non-null object\n",
      "headline    232 non-null object\n",
      "text        232 non-null object\n",
      "dtypes: datetime64[ns](1), object(3)\n",
      "memory usage: 7.4+ KB\n",
      "None\n",
      "\n",
      "<class 'pandas.core.frame.DataFrame'>\n",
      "RangeIndex: 120 entries, 0 to 119\n",
      "Data columns (total 4 columns):\n",
      "date        120 non-null datetime64[ns]\n",
      "url         120 non-null object\n",
      "headline    120 non-null object\n",
      "text        120 non-null object\n",
      "dtypes: datetime64[ns](1), object(3)\n",
      "memory usage: 3.9+ KB\n",
      "None\n",
      "\n",
      "<class 'pandas.core.frame.DataFrame'>\n",
      "RangeIndex: 323 entries, 0 to 322\n",
      "Data columns (total 4 columns):\n",
      "date        323 non-null datetime64[ns]\n",
      "url         323 non-null object\n",
      "headline    323 non-null object\n",
      "text        322 non-null object\n",
      "dtypes: datetime64[ns](1), object(3)\n",
      "memory usage: 10.2+ KB\n",
      "None\n",
      "\n",
      "<class 'pandas.core.frame.DataFrame'>\n",
      "RangeIndex: 118 entries, 0 to 117\n",
      "Data columns (total 4 columns):\n",
      "date        118 non-null datetime64[ns]\n",
      "url         118 non-null object\n",
      "headline    118 non-null object\n",
      "text        118 non-null object\n",
      "dtypes: datetime64[ns](1), object(3)\n",
      "memory usage: 3.8+ KB\n",
      "None\n",
      "\n"
     ]
    }
   ],
   "source": [
    "df_list = [flood, flooded, flooding, monsoon, heavy_rain]\n",
    "\n",
    "datatype(df_list)"
   ]
  },
  {
   "cell_type": "code",
   "execution_count": 11,
   "metadata": {},
   "outputs": [],
   "source": [
    "df_list = [flood, flooded, flooding, monsoon, heavy_rain]\n",
    "\n",
    "for df in df_list: \n",
    "    df['text'] = df['headline'] + '. ' + df['text']\n",
    "    df.drop(columns=['headline'], inplace=True)"
   ]
  },
  {
   "cell_type": "markdown",
   "metadata": {},
   "source": [
    "## Check null values"
   ]
  },
  {
   "cell_type": "code",
   "execution_count": 12,
   "metadata": {},
   "outputs": [
    {
     "name": "stdout",
     "output_type": "stream",
     "text": [
      "date    0\n",
      "url     0\n",
      "text    0\n",
      "dtype: int64\n",
      "\n",
      "date    0\n",
      "url     0\n",
      "text    0\n",
      "dtype: int64\n",
      "\n",
      "date    0\n",
      "url     0\n",
      "text    0\n",
      "dtype: int64\n",
      "\n",
      "date    0\n",
      "url     0\n",
      "text    1\n",
      "dtype: int64\n",
      "\n",
      "date    0\n",
      "url     0\n",
      "text    0\n",
      "dtype: int64\n",
      "\n"
     ]
    }
   ],
   "source": [
    "def null_vals(df_list):\n",
    "    for df in df_list:\n",
    "        print(df.isnull().sum())\n",
    "        print('')\n",
    "        \n",
    "null_vals(df_list)"
   ]
  },
  {
   "cell_type": "markdown",
   "metadata": {},
   "source": [
    "### *drop null value in monsoon*"
   ]
  },
  {
   "cell_type": "code",
   "execution_count": 13,
   "metadata": {},
   "outputs": [
    {
     "data": {
      "text/plain": [
       "[25]"
      ]
     },
     "execution_count": 13,
     "metadata": {},
     "output_type": "execute_result"
    }
   ],
   "source": [
    "#find index of null value\n",
    "monsoon[monsoon['text'].isnull()].index.tolist()"
   ]
  },
  {
   "cell_type": "code",
   "execution_count": 14,
   "metadata": {},
   "outputs": [
    {
     "data": {
      "text/html": [
       "<div>\n",
       "<style scoped>\n",
       "    .dataframe tbody tr th:only-of-type {\n",
       "        vertical-align: middle;\n",
       "    }\n",
       "\n",
       "    .dataframe tbody tr th {\n",
       "        vertical-align: top;\n",
       "    }\n",
       "\n",
       "    .dataframe thead th {\n",
       "        text-align: right;\n",
       "    }\n",
       "</style>\n",
       "<table border=\"1\" class=\"dataframe\">\n",
       "  <thead>\n",
       "    <tr style=\"text-align: right;\">\n",
       "      <th></th>\n",
       "      <th>date</th>\n",
       "      <th>url</th>\n",
       "      <th>text</th>\n",
       "    </tr>\n",
       "  </thead>\n",
       "  <tbody>\n",
       "    <tr>\n",
       "      <td>25</td>\n",
       "      <td>2019-08-08</td>\n",
       "      <td>https://www.tribuneindia.com/news/punjab/facin...</td>\n",
       "      <td>NaN</td>\n",
       "    </tr>\n",
       "  </tbody>\n",
       "</table>\n",
       "</div>"
      ],
      "text/plain": [
       "         date                                                url text\n",
       "25 2019-08-08  https://www.tribuneindia.com/news/punjab/facin...  NaN"
      ]
     },
     "execution_count": 14,
     "metadata": {},
     "output_type": "execute_result"
    }
   ],
   "source": [
    "monsoon.loc[monsoon[monsoon['text'].isnull()].index]"
   ]
  },
  {
   "cell_type": "code",
   "execution_count": 15,
   "metadata": {},
   "outputs": [
    {
     "data": {
      "text/plain": [
       "(323, 3)"
      ]
     },
     "execution_count": 15,
     "metadata": {},
     "output_type": "execute_result"
    }
   ],
   "source": [
    "monsoon.shape"
   ]
  },
  {
   "cell_type": "code",
   "execution_count": 16,
   "metadata": {},
   "outputs": [],
   "source": [
    "monsoon.drop(index=25, inplace=True)"
   ]
  },
  {
   "cell_type": "code",
   "execution_count": 17,
   "metadata": {},
   "outputs": [
    {
     "data": {
      "text/plain": [
       "(322, 3)"
      ]
     },
     "execution_count": 17,
     "metadata": {},
     "output_type": "execute_result"
    }
   ],
   "source": [
    "monsoon.shape"
   ]
  },
  {
   "cell_type": "markdown",
   "metadata": {},
   "source": [
    "### *check datatypes*"
   ]
  },
  {
   "cell_type": "code",
   "execution_count": 18,
   "metadata": {},
   "outputs": [
    {
     "name": "stdout",
     "output_type": "stream",
     "text": [
      "<class 'pandas.core.frame.DataFrame'>\n",
      "RangeIndex: 301 entries, 0 to 300\n",
      "Data columns (total 3 columns):\n",
      "date    301 non-null datetime64[ns]\n",
      "url     301 non-null object\n",
      "text    301 non-null object\n",
      "dtypes: datetime64[ns](1), object(2)\n",
      "memory usage: 7.2+ KB\n",
      "None\n",
      "\n",
      "<class 'pandas.core.frame.DataFrame'>\n",
      "RangeIndex: 232 entries, 0 to 231\n",
      "Data columns (total 3 columns):\n",
      "date    232 non-null datetime64[ns]\n",
      "url     232 non-null object\n",
      "text    232 non-null object\n",
      "dtypes: datetime64[ns](1), object(2)\n",
      "memory usage: 5.6+ KB\n",
      "None\n",
      "\n",
      "<class 'pandas.core.frame.DataFrame'>\n",
      "RangeIndex: 120 entries, 0 to 119\n",
      "Data columns (total 3 columns):\n",
      "date    120 non-null datetime64[ns]\n",
      "url     120 non-null object\n",
      "text    120 non-null object\n",
      "dtypes: datetime64[ns](1), object(2)\n",
      "memory usage: 2.9+ KB\n",
      "None\n",
      "\n",
      "<class 'pandas.core.frame.DataFrame'>\n",
      "Int64Index: 322 entries, 0 to 322\n",
      "Data columns (total 3 columns):\n",
      "date    322 non-null datetime64[ns]\n",
      "url     322 non-null object\n",
      "text    322 non-null object\n",
      "dtypes: datetime64[ns](1), object(2)\n",
      "memory usage: 10.1+ KB\n",
      "None\n",
      "\n",
      "<class 'pandas.core.frame.DataFrame'>\n",
      "RangeIndex: 118 entries, 0 to 117\n",
      "Data columns (total 3 columns):\n",
      "date    118 non-null datetime64[ns]\n",
      "url     118 non-null object\n",
      "text    118 non-null object\n",
      "dtypes: datetime64[ns](1), object(2)\n",
      "memory usage: 2.9+ KB\n",
      "None\n",
      "\n"
     ]
    }
   ],
   "source": [
    "datatype(df_list)"
   ]
  },
  {
   "cell_type": "markdown",
   "metadata": {},
   "source": [
    "## Clean text \n",
    "\n",
    "- lower()\n",
    "\n",
    "- replace line breaks with spaces\n",
    "\n",
    "- keep punctation -- not done"
   ]
  },
  {
   "cell_type": "code",
   "execution_count": 30,
   "metadata": {},
   "outputs": [],
   "source": [
    "#adapted from Dominika Twardowski\n",
    "\n",
    "def text_processing(df):\n",
    "\n",
    "    # change line breaks into a space\n",
    "    df['text'] = df['text'].replace(r\"[\\r\\n]+\", \" \", regex=True)\n",
    "    \n",
    "    # change text to lower case  \n",
    "    df['text'] = df['text'].map(lambda x: x.lower())\n",
    "    "
   ]
  },
  {
   "cell_type": "code",
   "execution_count": 31,
   "metadata": {},
   "outputs": [],
   "source": [
    "for df in df_list: \n",
    "    text_processing(df)"
   ]
  },
  {
   "cell_type": "code",
   "execution_count": 36,
   "metadata": {},
   "outputs": [
    {
     "data": {
      "text/plain": [
       "0      rain damages crops. our correspondent fazilka,...\n",
       "1      six pilgrims from punjab killed in uttarakhand...\n",
       "2      storage in dams better than 10-yr average. vij...\n",
       "3      amid deluge, jalandhar welcomes ‘flood babies’...\n",
       "4      bhakra water level to be reduced by 5 ft. vija...\n",
       "                             ...                        \n",
       "113    rain-hit villagers protest govt apathy in aboh...\n",
       "114    woman dies in roof collapse. our correspondent...\n",
       "115    wheat crop in moga flattened. kulwinder sandhu...\n",
       "116    rain, high-speed winds damage crops in malwa. ...\n",
       "117    heavy rain lashes chandigarh, parts of punjab,...\n",
       "Name: text, Length: 118, dtype: object"
      ]
     },
     "execution_count": 36,
     "metadata": {},
     "output_type": "execute_result"
    }
   ],
   "source": [
    "heavy_rain.text"
   ]
  },
  {
   "cell_type": "markdown",
   "metadata": {},
   "source": [
    "## Combine dataframes"
   ]
  },
  {
   "cell_type": "code",
   "execution_count": 38,
   "metadata": {},
   "outputs": [],
   "source": [
    "tribune_data = pd.concat(df_list, ignore_index=True)"
   ]
  },
  {
   "cell_type": "code",
   "execution_count": 39,
   "metadata": {},
   "outputs": [
    {
     "data": {
      "text/plain": [
       "date    0\n",
       "url     0\n",
       "text    0\n",
       "dtype: int64"
      ]
     },
     "execution_count": 39,
     "metadata": {},
     "output_type": "execute_result"
    }
   ],
   "source": [
    "tribune_data.isnull().sum()"
   ]
  },
  {
   "cell_type": "code",
   "execution_count": 41,
   "metadata": {},
   "outputs": [],
   "source": [
    "tribune_data.rename(columns={'url': 'source'}, inplace=True)"
   ]
  },
  {
   "cell_type": "code",
   "execution_count": 42,
   "metadata": {},
   "outputs": [],
   "source": [
    "tribune_data.to_csv('../data/tribune_data_clean.csv', index=False)"
   ]
  }
 ],
 "metadata": {
  "kernelspec": {
   "display_name": "Python 3",
   "language": "python",
   "name": "python3"
  },
  "language_info": {
   "codemirror_mode": {
    "name": "ipython",
    "version": 3
   },
   "file_extension": ".py",
   "mimetype": "text/x-python",
   "name": "python",
   "nbconvert_exporter": "python",
   "pygments_lexer": "ipython3",
   "version": "3.7.3"
  }
 },
 "nbformat": 4,
 "nbformat_minor": 2
}
